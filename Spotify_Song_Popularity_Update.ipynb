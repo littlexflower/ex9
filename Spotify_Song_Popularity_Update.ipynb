{
  "nbformat": 4,
  "nbformat_minor": 0,
  "metadata": {
    "colab": {
      "name": "Spotify Song Popularity Update.ipynb",
      "provenance": [],
      "mount_file_id": "1hQ1thsmLIMbTP_06IKRGUi2o1Bz63CEW",
      "authorship_tag": "ABX9TyMjqmb3qIyS4LDQnMZhjonA",
      "include_colab_link": true
    },
    "kernelspec": {
      "name": "python3",
      "display_name": "Python 3"
    },
    "language_info": {
      "name": "python"
    }
  },
  "cells": [
    {
      "cell_type": "markdown",
      "metadata": {
        "id": "view-in-github",
        "colab_type": "text"
      },
      "source": [
        "<a href=\"https://colab.research.google.com/github/littlexflower/ex9/blob/master/Spotify_Song_Popularity_Update.ipynb\" target=\"_parent\"><img src=\"https://colab.research.google.com/assets/colab-badge.svg\" alt=\"Open In Colab\"/></a>"
      ]
    },
    {
      "cell_type": "code",
      "metadata": {
        "id": "KyBzBpKjtVas"
      },
      "source": [
        "import glob, requests, time, os\n",
        "\n",
        "import pandas as pd \n",
        "pd.options.mode.chained_assignment = None\n",
        "\n",
        "from pandas.io.json import json_normalize \n",
        "\n",
        "from datetime import date\n",
        "\n",
        "from google.cloud import bigquery\n",
        "\n",
        "# enable progress bar when running loops\n",
        "from tqdm.notebook import tqdm\n",
        "# enable progress bar when running apply in pandas \n",
        "# (use progress_apply instead of apply)\n",
        "tqdm.pandas()\n",
        "\n",
        "# disable warnings when running code\n",
        "import warnings\n",
        "warnings.filterwarnings(\"ignore\")\n",
        "\n",
        "### Set essential variables ###\n",
        "project_path = '/content/drive/MyDrive/Spotify Song Popularity Update'\n",
        "spotify_popularity_value_retrieved_date = date.today().strftime('%Y-%m-%d')\n",
        "\n",
        "# Essential variables for BigQuery env\n",
        "credential_path = '/content/drive/MyDrive/sac_translation.json'\n",
        "os.environ['GOOGLE_APPLICATION_CREDENTIALS'] = credential_path\n",
        "client = bigquery.Client.from_service_account_json(credential_path)\n",
        "msk_dataset_id = 'music-solutions-data.msk_scheduled.musicdb-pro-max'\n",
        "\n",
        "### Funtions ###\n",
        "# Define a function to load a query result into a DataFrame\n",
        "def get_bq_table(query):\n",
        "  query_job = client.query(query)\n",
        "  query_job.result()\n",
        "  df = query_job.to_dataframe()\n",
        "  return df\n",
        "\n",
        "# Define a function to search for a song and return its popularity based on its ISRC on Spotify\n",
        "def search_a_song_by_isrc(isrc):\n",
        "    '''\n",
        "    This function returns a dictionary, including \n",
        "    song ID, song name, popularity, \n",
        "    album ID, album name, and album release date.\n",
        "    If there are more than one song returned, choose song with the latest album release date.\n",
        "    '''\n",
        "    # this is funkylab account\n",
        "    client_id = 'c88d0145904d4d3990eda99c27d0ed7e'\n",
        "    client_secret = 'bfdafee94fb04301a23c2d7c87058d78'\n",
        "    auth_url = 'https://accounts.spotify.com/api/token'\n",
        "    # POST\n",
        "    auth_response = requests.post(auth_url, {\n",
        "        'grant_type': 'client_credentials',\n",
        "        'client_id': client_id,\n",
        "        'client_secret': client_secret,\n",
        "    })\n",
        "\n",
        "    # convert the response to JSON\n",
        "    auth_response_data = auth_response.json()\n",
        "\n",
        "    # save the access token\n",
        "    access_token = auth_response_data['access_token']\n",
        "\n",
        "    headers = {\n",
        "        'Authorization': f'Bearer {access_token}'\n",
        "    }\n",
        "\n",
        "    url = f'https://api.spotify.com/v1/search?type=track&q=isrc:{isrc}'\n",
        "\n",
        "    responses = requests.get(url, headers=headers)\n",
        "    result = responses.json()['tracks']['items']\n",
        "    return result"
      ],
      "execution_count": 1,
      "outputs": []
    },
    {
      "cell_type": "code",
      "metadata": {
        "id": "Jn084GBzuavi"
      },
      "source": [
        "targeted_msk_songs = get_bq_table(\n",
        "    f\"\"\"\n",
        "    WITH \n",
        "    song_params_extracted_1 AS (\n",
        "        SELECT\n",
        "            app_id\n",
        "            , song_id\n",
        "            , JSON_EXTRACT_ARRAY(song_params) song_params_extracted\n",
        "        FROM `{msk_dataset_id}_app_song`\n",
        "        WHERE \n",
        "          app_id IN ('b14f4f52-7878-4d68-ba01-0e134830728c', '5e70975f-f91f-465a-b7e4-c16981135ea4')\n",
        "          AND created_at <= '2021-11-04'\n",
        "    )\n",
        "\n",
        "    , flatten AS (\n",
        "        SELECT \n",
        "            app_id\n",
        "            , song_id\n",
        "            , song_params_extracted \n",
        "        FROM song_params_extracted_1, UNNEST(song_params_extracted) song_params_extracted\n",
        "    )\n",
        "\n",
        "    , song_params_extracted_2 AS (\n",
        "        SELECT\n",
        "            app_id\n",
        "            , song_id\n",
        "            , JSON_VALUE(song_params_extracted, '$.key') key\n",
        "            , JSON_VALUE(song_params_extracted, '$.value') value\n",
        "        FROM flatten\n",
        "    )\n",
        "\n",
        "SELECT \n",
        "    app_id msk_app_id\n",
        "    , song_params_extracted_2.song_id msk_song_id\n",
        "    , song_name.name msk_song_name\n",
        "    , isrc\n",
        "    , value msk_popularity_value\n",
        "    , '2021-11-04' msk_popularity_value_retrieve_date\n",
        "FROM song_params_extracted_2\n",
        "LEFT JOIN `{msk_dataset_id}_song` msk_song \n",
        "ON song_params_extracted_2.song_id = msk_song.id\n",
        "LEFT JOIN `{msk_dataset_id}_song_name` song_name\n",
        "USING (song_id)\n",
        "WHERE song_params_extracted_2.key = 'popularity'\n",
        "    \"\"\"\n",
        ")"
      ],
      "execution_count": null,
      "outputs": []
    },
    {
      "cell_type": "code",
      "metadata": {
        "id": "fR9OC_rZusTg"
      },
      "source": [
        "total_part = int(len(targeted_msk_songs)/10000) + 1\n",
        "\n",
        "for part_num in range(0, total_part):\n",
        "  spotify_search_result = pd.DataFrame()\n",
        "  start_index = part_num*10000\n",
        "  end_index = (part_num+1)*10000\n",
        "  partial_msk_songs = targeted_msk_songs[start_index:end_index]\n",
        "  for i, row in tqdm(\n",
        "      partial_msk_songs.iterrows(),\n",
        "      total = partial_msk_songs.shape[0]\n",
        "  ):\n",
        "      isrc = partial_msk_songs.at[i, 'isrc']\n",
        "\n",
        "      while True:\n",
        "          try:\n",
        "              json_normalized = json_normalize(search_a_song_by_isrc(isrc))\n",
        "              spotify_search_result = spotify_search_result.append(json_normalized)\n",
        "              time.sleep(0.04)\n",
        "              break\n",
        "          except Exception:\n",
        "              continue\n",
        "\n",
        "    spotify_search_result.to_csv(f'{project_path}/spotify_search_result_part_{part_num}')"
      ],
      "execution_count": null,
      "outputs": []
    },
    {
      "cell_type": "code",
      "metadata": {
        "id": "KmrWiupNvtJW"
      },
      "source": [
        "spotify_search_result = pd.DataFrame()\n",
        "\n",
        "for file in glob.glob(f'{project_path}/spotify_search_result_part_*'):\n",
        "  df = pd.read_csv(file)\n",
        "  spotify_search_result = spotify_search_result.append(df)\n",
        "\n",
        "spotify_search_result = spotify_search_result[\n",
        "                                              [\n",
        "                                               'id',\n",
        "                                               'name',\n",
        "                                               'popularity',\n",
        "                                               'album.release_date',\n",
        "                                               'album.release_date_precision',\n",
        "                                               'external_ids.isrc'\n",
        "                                              ]\n",
        "]\n",
        "\n",
        "spotify_search_result['spotify_popularity_value_retrieved_date'] = spotify_popularity_value_retrieved_date\n",
        "\n",
        "spotify_search_result = spotify_search_result.sort_values('popularity', ascending=False).groupby(['external_ids.isrc']).first().reset_index()\n",
        "\n",
        "spotify_search_result.columns = [\n",
        "                                 'isrc',\n",
        "                                 'spotify_track_id',\n",
        "                                 'spotify_track_name',\n",
        "                                 'spotify_popularity_value',\n",
        "                                 'album_release_date',\n",
        "                                 'album_release_date_precision',\n",
        "                                 'spotify_popularity_value_retrieved_date'\n",
        "]"
      ],
      "execution_count": null,
      "outputs": []
    },
    {
      "cell_type": "code",
      "metadata": {
        "id": "9T2Jb8WO2BHk"
      },
      "source": [
        "popularity_update = targeted_msk_songs.merge(\n",
        "    spotify_search_result,\n",
        "    on='isrc'\n",
        ")\n",
        "\n",
        "popularity_update.to_csv(f'{project_path}/song_popularity_update_{spotify_popularity_value_retrieved_date}.csv', index=False)"
      ],
      "execution_count": null,
      "outputs": []
    },
    {
      "cell_type": "code",
      "metadata": {
        "id": "MLSg3TIv9FGF"
      },
      "source": [
        "popularity_update = pd.read_csv(f'{project_path}/song_popularity_update_2021-11-05.csv')"
      ],
      "execution_count": 2,
      "outputs": []
    },
    {
      "cell_type": "code",
      "metadata": {
        "id": "c0BKmVNm9c9G"
      },
      "source": [
        "popularity_update.head(1000).drop(columns='Unnamed: 0').to_csv(f'{project_path}/song_popularity_update_sample_{spotify_popularity_value_retrieved_date}.csv', index=False)"
      ],
      "execution_count": 5,
      "outputs": []
    }
  ]
}